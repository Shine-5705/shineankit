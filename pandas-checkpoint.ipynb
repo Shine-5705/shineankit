{
 "cells": [
  {
   "cell_type": "code",
   "execution_count": 1,
   "id": "0eba3075",
   "metadata": {},
   "outputs": [],
   "source": [
    "import numpy as np\n",
    "import pandas as pd"
   ]
  },
  {
   "cell_type": "code",
   "execution_count": 2,
   "id": "a63f7614",
   "metadata": {},
   "outputs": [],
   "source": [
    "dict1 = {\n",
    "    \"name\": [\"shine\",\"ankit\",\"great\"],\n",
    "    \"num\": [\"1\",\"2\",\"3\"],\n",
    "    \"city\" :[\"meerut\", \"banaras\",\"mind\"]\n",
    "}"
   ]
  },
  {
   "cell_type": "code",
   "execution_count": 7,
   "id": "3f95cd3b",
   "metadata": {},
   "outputs": [],
   "source": [
    "df = pd.DataFrame(dict1)"
   ]
  },
  {
   "cell_type": "code",
   "execution_count": 8,
   "id": "67c1ba16",
   "metadata": {},
   "outputs": [],
   "source": [
    "df.to_csv(\"friends.csv\",index=false)"
   ]
  },
  {
   "cell_type": "code",
   "execution_count": null,
   "id": "10d25faf",
   "metadata": {},
   "outputs": [],
   "source": []
  }
 ],
 "metadata": {
  "kernelspec": {
   "display_name": "Python 3 (ipykernel)",
   "language": "python",
   "name": "python3"
  },
  "language_info": {
   "codemirror_mode": {
    "name": "ipython",
    "version": 3
   },
   "file_extension": ".py",
   "mimetype": "text/x-python",
   "name": "python",
   "nbconvert_exporter": "python",
   "pygments_lexer": "ipython3",
   "version": "3.10.9"
  }
 },
 "nbformat": 4,
 "nbformat_minor": 5
}
